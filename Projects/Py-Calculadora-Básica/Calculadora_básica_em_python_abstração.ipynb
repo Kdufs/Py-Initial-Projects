{
 "cells": [
  {
   "cell_type": "code",
   "execution_count": null,
   "metadata": {},
   "outputs": [],
   "source": [
    "#marca\n",
    "\n",
    "print('''\n",
    "      --------------------\n",
    "      |      Kdufs       |\n",
    "      --------------------\n",
    "      ''')"
   ]
  },
  {
   "cell_type": "code",
   "execution_count": null,
   "metadata": {},
   "outputs": [],
   "source": [
    "#variáveis\n",
    "\n",
    "n1 = int(input('Escolha um Número\\n>>>'))\n",
    "n2 = int(input('Escolha outro Número\\n>>>'))\n",
    "sinal = input('Escolha um sinal(- + / *)\\n>>>')\n",
    "consulta = 'Houve algum problema ao Executar o código, caso precise de ajuda, mande um email para contatokdufs@gmail.com'"
   ]
  },
  {
   "cell_type": "code",
   "execution_count": null,
   "metadata": {},
   "outputs": [],
   "source": [
    "#decisões\n",
    "\n",
    "if sinal == \"-\":\n",
    "    print( n1 - n2)\n",
    "elif sinal == \"+\":\n",
    "    print(n1 + n2)\n",
    "elif sinal == \"/\":\n",
    "    print(n1 / n2)\n",
    "elif sinal == \"*\":\n",
    "    print(n1 * n2)\n",
    "else:\n",
    "    print(consulta)"
   ]
  }
 ],
 "metadata": {
  "kernelspec": {
   "display_name": "Python 3.10.7 64-bit",
   "language": "python",
   "name": "python3"
  },
  "language_info": {
   "codemirror_mode": {
    "name": "ipython",
    "version": 3
   },
   "file_extension": ".py",
   "mimetype": "text/x-python",
   "name": "python",
   "nbconvert_exporter": "python",
   "pygments_lexer": "ipython3",
   "version": "3.10.7"
  },
  "orig_nbformat": 4,
  "vscode": {
   "interpreter": {
    "hash": "e7370f93d1d0cde622a1f8e1c04877d8463912d04d973331ad4851f04de6915a"
   }
  }
 },
 "nbformat": 4,
 "nbformat_minor": 2
}
